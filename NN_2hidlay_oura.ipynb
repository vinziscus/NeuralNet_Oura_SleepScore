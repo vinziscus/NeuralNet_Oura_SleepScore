{
 "cells": [
  {
   "cell_type": "code",
   "execution_count": 218,
   "id": "460886f9",
   "metadata": {},
   "outputs": [],
   "source": [
    "import numpy\n",
    "import scipy.special\n",
    "import matplotlib.pyplot"
   ]
  },
  {
   "cell_type": "code",
   "execution_count": 219,
   "id": "909e2cc9",
   "metadata": {},
   "outputs": [],
   "source": [
    "class neuralNetwork:\n",
    "    def __init__(self, inputnode, hiddennode1, hiddennode2, outputnode, learningrate):\n",
    "        self.inodes = inputnode\n",
    "        self.hnodes1 = hiddennode1\n",
    "        self.hnodes2 = hiddennode2\n",
    "        self.onodes = outputnode\n",
    "        self.lr = learningrate\n",
    "        \n",
    "        self.wih = numpy.random.normal(0.0, pow(self.inodes, -0.5), (self.hnodes1, self.inodes))\n",
    "        self.wh1h2 = numpy.random.normal(0.0, pow(self.inodes, -0.5), (self.hnodes2, self.hnodes1))\n",
    "        self.who = numpy.random.normal(0.0, pow(self.hnodes2, -0.5), (self.onodes, self.hnodes2))\n",
    "        \n",
    "        self.activation_function = lambda x: scipy.special.expit(x)\n",
    "        \n",
    "        pass\n",
    "    \n",
    "    \n",
    "    def train(self, input_list, target_list):\n",
    "        inputs = numpy.array([input_list]).T\n",
    "        targets = numpy.array([target_list]).T\n",
    "        \n",
    "        # Forward pass\n",
    "        hidden1_inputs = numpy.dot(self.wih, inputs)\n",
    "        hidden1_outputs = self.activation_function(hidden1_inputs)\n",
    "        \n",
    "        hidden2_inputs = numpy.dot(self.wh1h2, hidden1_outputs)\n",
    "        hidden2_outputs = self.activation_function(hidden2_inputs)\n",
    "        \n",
    "        final_inputs = numpy.dot(self.who, hidden2_outputs)\n",
    "        final_outputs = self.activation_function(final_inputs)\n",
    "        \n",
    "        # Error Calculation\n",
    "        output_error = targets - final_outputs\n",
    "        hidden2_error = numpy.dot(self.who.T, output_error)\n",
    "        hidden1_error = numpy.dot(self.wh1h2.T, hidden2_error)\n",
    "        \n",
    "        # Adjusting Weights\n",
    "        self.who += self.lr * numpy.dot((output_error * final_outputs * (1 - final_outputs)), numpy.transpose(hidden2_outputs))\n",
    "        self.wh1h2 += self.lr * numpy.dot((hidden2_error * hidden2_outputs * (1 - hidden2_outputs)), numpy.transpose(hidden1_outputs))\n",
    "        self.wih += self.lr * numpy.dot((hidden1_error * hidden1_outputs * (1- hidden1_outputs)), numpy.transpose(inputs))\n",
    "        \n",
    "    \n",
    "        pass\n",
    "    \n",
    "    \n",
    "    def query(self, inputs_list):\n",
    "        inputs = numpy.array([inputs_list]).T\n",
    "        \n",
    "        # Forward pass\n",
    "        hidden1_inputs = numpy.dot(self.wih, inputs)\n",
    "        hidden1_outputs = self.activation_function(hidden1_inputs)\n",
    "        \n",
    "        hidden2_inputs = numpy.dot(self.wh1h2, hidden1_outputs)\n",
    "        hidden2_outputs = self.activation_function(hidden2_inputs)\n",
    "        \n",
    "        final_inputs = numpy.dot(self.who, hidden2_outputs)\n",
    "        final_outputs = self.activation_function(final_inputs)\n",
    "        \n",
    "        return final_outputs"
   ]
  },
  {
   "cell_type": "markdown",
   "id": "e279bf70",
   "metadata": {},
   "source": [
    "## Network initialisieren"
   ]
  },
  {
   "cell_type": "code",
   "execution_count": 220,
   "id": "24f19fbf",
   "metadata": {},
   "outputs": [],
   "source": [
    "inputnode = 29\n",
    "hiddennode1 = 500\n",
    "hiddennode2 = 100\n",
    "outputnode = 10\n",
    "learningrate = 0.1\n",
    "\n",
    "n = neuralNetwork(inputnode, hiddennode1, hiddennode2, outputnode, learningrate)"
   ]
  },
  {
   "cell_type": "markdown",
   "id": "5334fcce",
   "metadata": {},
   "source": [
    "## Trainingsset einladen"
   ]
  },
  {
   "cell_type": "code",
   "execution_count": 221,
   "id": "f726a37f",
   "metadata": {},
   "outputs": [],
   "source": [
    "training_data_file = open(\"all_data_oura_training.csv\", 'r')\n",
    "training_data_list = training_data_file.readlines()\n",
    "training_data_file.close()"
   ]
  },
  {
   "cell_type": "markdown",
   "id": "e5a89ba1",
   "metadata": {},
   "source": [
    "## Trainings Network"
   ]
  },
  {
   "cell_type": "code",
   "execution_count": 226,
   "id": "32dfbfac",
   "metadata": {},
   "outputs": [],
   "source": [
    "epoch = 10\n",
    "\n",
    "for i in range(epoch):\n",
    "    for record in training_data_list:\n",
    "        all_values = record.split(',')\n",
    "        inputs = (numpy.asfarray(all_values[1:]) / 100 * 0.99) + 0.01\n",
    "\n",
    "        # target matrix\n",
    "        targets = numpy.zeros(outputnode) + 0.01\n",
    "        x = (int(all_values[0]) - 50) // 5\n",
    "        targets[x] = 0.99\n",
    "\n",
    "        n.train(inputs, targets)\n",
    "        \n",
    "        pass\n",
    "    pass"
   ]
  },
  {
   "cell_type": "markdown",
   "id": "9eecbab3",
   "metadata": {},
   "source": [
    "## Test Network"
   ]
  },
  {
   "cell_type": "code",
   "execution_count": 223,
   "id": "987713d9",
   "metadata": {},
   "outputs": [],
   "source": [
    "test_data_file = open(\"all_data_oura_test.csv\", 'r')\n",
    "test_data_list = test_data_file.readlines()\n",
    "test_data_file.close()"
   ]
  },
  {
   "cell_type": "code",
   "execution_count": 224,
   "id": "8c1e2bd9",
   "metadata": {},
   "outputs": [],
   "source": [
    "scorecard = []\n",
    "\n",
    "for record in test_data_list:\n",
    "        all_values = record.split(',')\n",
    "        inputs = (numpy.asfarray(all_values[1:]) / 100 * 0.99) + 0.01\n",
    "\n",
    "        outputs = n.query(inputs)\n",
    "        prediction = numpy.argmax(outputs)\n",
    "        \n",
    "        x = (int(all_values[0]) - 50) // 5\n",
    "        if x == prediction:\n",
    "            scorecard.append(1)\n",
    "        else:\n",
    "            scorecard.append(0)\n",
    "        \n",
    "        pass"
   ]
  },
  {
   "cell_type": "code",
   "execution_count": 225,
   "id": "e9b0b6c8",
   "metadata": {},
   "outputs": [
    {
     "name": "stdout",
     "output_type": "stream",
     "text": [
      "0.5454545454545454\n",
      "[1, 0, 0, 0, 0, 1, 1, 1, 1, 1, 0]\n"
     ]
    }
   ],
   "source": [
    "scorecard_average = numpy.sum(scorecard) / len(scorecard)\n",
    "print(scorecard_average)\n",
    "print(scorecard)"
   ]
  },
  {
   "cell_type": "code",
   "execution_count": null,
   "id": "c83f0a0e",
   "metadata": {},
   "outputs": [],
   "source": []
  }
 ],
 "metadata": {
  "kernelspec": {
   "display_name": "Python 3 (ipykernel)",
   "language": "python",
   "name": "python3"
  },
  "language_info": {
   "codemirror_mode": {
    "name": "ipython",
    "version": 3
   },
   "file_extension": ".py",
   "mimetype": "text/x-python",
   "name": "python",
   "nbconvert_exporter": "python",
   "pygments_lexer": "ipython3",
   "version": "3.8.10"
  }
 },
 "nbformat": 4,
 "nbformat_minor": 5
}
