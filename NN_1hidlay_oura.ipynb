{
 "cells": [
  {
   "cell_type": "markdown",
   "id": "2e761a8f",
   "metadata": {},
   "source": [
    "# Oura Ring Neural Network Prediction Machine"
   ]
  },
  {
   "cell_type": "code",
   "execution_count": 332,
   "id": "19c1555c",
   "metadata": {},
   "outputs": [],
   "source": [
    "import numpy\n",
    "import scipy.special\n",
    "import matplotlib.pyplot"
   ]
  },
  {
   "cell_type": "code",
   "execution_count": 333,
   "id": "5fbde65c",
   "metadata": {},
   "outputs": [],
   "source": [
    "class neuralNetwork:\n",
    "    def __init__(self, inputnode, hiddennode, outputnode, learningrate):\n",
    "        self.inodes = inputnode\n",
    "        self.hnodes = hiddennode\n",
    "        self.onodes = outputnode\n",
    "        self.lr = learningrate\n",
    "        \n",
    "        self.wih = numpy.random.normal(0.0, pow(self.inodes, -0.5), (self.hnodes, self.inodes))\n",
    "        self.who = numpy.random.normal(0.0, pow(self.hnodes, -0.5), (self.onodes, self.hnodes))\n",
    "        \n",
    "        self.activation_function = lambda x: scipy.special.expit(x)\n",
    "        \n",
    "        pass\n",
    "    \n",
    "    \n",
    "    def train(self, input_list, target_list):\n",
    "        inputs = numpy.array([input_list]).T\n",
    "        targets = numpy.array([target_list]).T\n",
    "        \n",
    "        # Forward pass\n",
    "        hidden_inputs = numpy.dot(self.wih, inputs)\n",
    "        hidden_outputs = self.activation_function(hidden_inputs)\n",
    "        \n",
    "        final_inputs = numpy.dot(self.who, hidden_outputs)\n",
    "        final_outputs = self.activation_function(final_inputs)\n",
    "        \n",
    "        # Error Calculation\n",
    "        output_error = targets - final_outputs\n",
    "        hidden_error = numpy.dot(self.who.T, output_error)\n",
    "        \n",
    "        # Adjusting Weights\n",
    "        self.who += self.lr * numpy.dot((output_error * final_outputs * (1 - final_outputs)), numpy.transpose(hidden_outputs))\n",
    "        self.wih += self.lr * numpy.dot((hidden_error * hidden_outputs* (1- hidden_outputs)), numpy.transpose(inputs))\n",
    "        \n",
    "        pass\n",
    "    \n",
    "    \n",
    "    def query(self, inputs_list):\n",
    "        inputs = numpy.array([inputs_list]).T\n",
    "        \n",
    "        # Forward pass\n",
    "        hidden_inputs = numpy.dot(self.wih, inputs)\n",
    "        hidden_outputs = self.activation_function(hidden_inputs)\n",
    "        \n",
    "        final_inputs = numpy.dot(self.who, hidden_outputs)\n",
    "        final_outputs = self.activation_function(final_inputs)\n",
    "        \n",
    "        return final_outputs"
   ]
  },
  {
   "cell_type": "markdown",
   "id": "fb11c69b",
   "metadata": {},
   "source": [
    "## Network initialisieren"
   ]
  },
  {
   "cell_type": "code",
   "execution_count": 334,
   "id": "3824ed2b",
   "metadata": {},
   "outputs": [],
   "source": [
    "inputnodes = 29\n",
    "hiddennodes = 200\n",
    "outputnodes = 9\n",
    "learningrate = 0.2\n",
    "\n",
    "n = neuralNetwork(inputnodes, hiddennodes, outputnodes, learningrate)"
   ]
  },
  {
   "cell_type": "markdown",
   "id": "7b7ba994",
   "metadata": {},
   "source": [
    "## Trainingsset einladen\n",
    "- len 99"
   ]
  },
  {
   "cell_type": "code",
   "execution_count": 335,
   "id": "979ab4d7",
   "metadata": {},
   "outputs": [],
   "source": [
    "training_data_file = open(\"all_data_oura_training.csv\", 'r')\n",
    "training_data_list = training_data_file.readlines()\n",
    "training_data_file.close()"
   ]
  },
  {
   "cell_type": "markdown",
   "id": "45abc971",
   "metadata": {},
   "source": [
    "## Trainings Network"
   ]
  },
  {
   "cell_type": "code",
   "execution_count": 336,
   "id": "5c72f815",
   "metadata": {},
   "outputs": [],
   "source": [
    "epoch = 50\n",
    "\n",
    "for i in range(epoch):\n",
    "    for record in training_data_list:\n",
    "        all_values = record.split(',')\n",
    "        inputs = (numpy.asfarray(all_values[1:]) / 100 * 0.99) + 0.01\n",
    "\n",
    "        # target matrix\n",
    "        targets = numpy.zeros(outputnodes) + 0.01\n",
    "        x = (int(all_values[0]) - 50) // 5\n",
    "        targets[x] = 0.99\n",
    "\n",
    "        n.train(inputs, targets)\n",
    "        \n",
    "        pass\n",
    "    pass"
   ]
  },
  {
   "cell_type": "markdown",
   "id": "8e63bfaf",
   "metadata": {},
   "source": [
    "## Test Network"
   ]
  },
  {
   "cell_type": "code",
   "execution_count": 337,
   "id": "4ace04a0",
   "metadata": {},
   "outputs": [],
   "source": [
    "test_data_file = open(\"all_data_oura_test.csv\", 'r')\n",
    "test_data_list = test_data_file.readlines()\n",
    "test_data_file.close()"
   ]
  },
  {
   "cell_type": "code",
   "execution_count": 338,
   "id": "80383ee1",
   "metadata": {},
   "outputs": [],
   "source": [
    "scorecard = []\n",
    "\n",
    "for record in test_data_list:\n",
    "        all_values = record.split(',')\n",
    "        inputs = (numpy.asfarray(all_values[1:]) / 100 * 0.99) + 0.01\n",
    "\n",
    "        outputs = n.query(inputs)\n",
    "        prediction = numpy.argmax(outputs)\n",
    "        \n",
    "        x = (int(all_values[0]) - 50) // 5\n",
    "        \n",
    "        if x == prediction:\n",
    "            scorecard.append(1)\n",
    "        else:\n",
    "            scorecard.append(0)\n",
    "        \n",
    "        pass"
   ]
  },
  {
   "cell_type": "code",
   "execution_count": 339,
   "id": "908aaf6c",
   "metadata": {
    "scrolled": true
   },
   "outputs": [
    {
     "name": "stdout",
     "output_type": "stream",
     "text": [
      "0.45454545454545453\n",
      "[0, 0, 0, 1, 0, 0, 1, 1, 1, 1, 0]\n"
     ]
    }
   ],
   "source": [
    "scorecard_average = numpy.sum(scorecard) / len(scorecard)\n",
    "print(scorecard_average)\n",
    "print(scorecard)"
   ]
  },
  {
   "cell_type": "code",
   "execution_count": null,
   "id": "5cf98c41",
   "metadata": {},
   "outputs": [],
   "source": []
  },
  {
   "cell_type": "code",
   "execution_count": null,
   "id": "c0ea55d8",
   "metadata": {},
   "outputs": [],
   "source": []
  }
 ],
 "metadata": {
  "kernelspec": {
   "display_name": "Python 3 (ipykernel)",
   "language": "python",
   "name": "python3"
  },
  "language_info": {
   "codemirror_mode": {
    "name": "ipython",
    "version": 3
   },
   "file_extension": ".py",
   "mimetype": "text/x-python",
   "name": "python",
   "nbconvert_exporter": "python",
   "pygments_lexer": "ipython3",
   "version": "3.8.10"
  }
 },
 "nbformat": 4,
 "nbformat_minor": 5
}
